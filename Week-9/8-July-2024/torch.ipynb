{
 "cells": [
  {
   "cell_type": "code",
   "execution_count": 1,
   "id": "cd3844ea",
   "metadata": {},
   "outputs": [],
   "source": [
    "import numpy as np\n",
    "import torch.nn as nn\n",
    "import torch"
   ]
  },
  {
   "cell_type": "code",
   "execution_count": 2,
   "id": "b2cbd093",
   "metadata": {},
   "outputs": [
    {
     "name": "stdout",
     "output_type": "stream",
     "text": [
      "softmax  outputs: [0.05948688 0.1617021  0.43955189 0.07265744 0.2666017 ]\n"
     ]
    }
   ],
   "source": [
    "def softmax1(x):\n",
    "    return np.exp(x)/np.sum(np.exp(x))\n",
    "\n",
    "x = np.array([2, 3, 4, 2.2, 3.5])\n",
    "output = softmax1(x)\n",
    "print(\"softmax  outputs:\", output)"
   ]
  },
  {
   "cell_type": "code",
   "execution_count": 3,
   "id": "5fccd9f8",
   "metadata": {},
   "outputs": [],
   "source": [
    "y = torch.tensor(x)"
   ]
  },
  {
   "cell_type": "code",
   "execution_count": 4,
   "id": "eadb4be4",
   "metadata": {},
   "outputs": [
    {
     "data": {
      "text/plain": [
       "tensor([0.0595, 0.1617, 0.4396, 0.0727, 0.2666], dtype=torch.float64)"
      ]
     },
     "execution_count": 4,
     "metadata": {},
     "output_type": "execute_result"
    }
   ],
   "source": [
    "output = torch.softmax(y, dim=0)\n",
    "output"
   ]
  },
  {
   "cell_type": "code",
   "execution_count": 7,
   "id": "1ff67eff",
   "metadata": {},
   "outputs": [
    {
     "data": {
      "text/plain": [
       "tensor([0.8808, 0.9526, 0.9820, 0.9002, 0.9707], dtype=torch.float64)"
      ]
     },
     "execution_count": 7,
     "metadata": {},
     "output_type": "execute_result"
    }
   ],
   "source": [
    "torch.sigmoid(y)"
   ]
  },
  {
   "cell_type": "code",
   "execution_count": 8,
   "id": "4473e8fe",
   "metadata": {},
   "outputs": [
    {
     "data": {
      "text/plain": [
       "tensor([2.0000, 3.0000, 4.0000, 2.2000, 3.5000], dtype=torch.float64)"
      ]
     },
     "execution_count": 8,
     "metadata": {},
     "output_type": "execute_result"
    }
   ],
   "source": [
    "torch.relu(y)"
   ]
  },
  {
   "cell_type": "code",
   "execution_count": 13,
   "id": "5b683ba7",
   "metadata": {},
   "outputs": [
    {
     "data": {
      "text/plain": [
       "tensor([0.9640, 0.9951, 0.9993, 0.9757, 0.9982], dtype=torch.float64)"
      ]
     },
     "execution_count": 13,
     "metadata": {},
     "output_type": "execute_result"
    }
   ],
   "source": [
    "torch.tanh(y)"
   ]
  },
  {
   "cell_type": "code",
   "execution_count": null,
   "id": "90d53d60",
   "metadata": {},
   "outputs": [],
   "source": []
  }
 ],
 "metadata": {
  "kernelspec": {
   "display_name": "Python 3 (ipykernel)",
   "language": "python",
   "name": "python3"
  },
  "language_info": {
   "codemirror_mode": {
    "name": "ipython",
    "version": 3
   },
   "file_extension": ".py",
   "mimetype": "text/x-python",
   "name": "python",
   "nbconvert_exporter": "python",
   "pygments_lexer": "ipython3",
   "version": "3.11.4"
  }
 },
 "nbformat": 4,
 "nbformat_minor": 5
}
