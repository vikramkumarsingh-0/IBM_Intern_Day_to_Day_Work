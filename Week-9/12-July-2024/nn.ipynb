{
  "cells": [
    {
      "cell_type": "code",
      "execution_count": null,
      "metadata": {
        "id": "-UnXDzLrdup_"
      },
      "outputs": [],
      "source": [
        "import numpy as np\n",
        "train_input = np.array(\n",
        "    [\n",
        "        [1, 1, 0],\n",
        "        [0, 1, 0],\n",
        "        [0, 0, 1],\n",
        "        [1, 0, 0]\n",
        "    ]\n",
        ")\n",
        "train_output = np.array(\n",
        "    [\n",
        "        [1],\n",
        "        [0],\n",
        "        [0],\n",
        "        [1]\n",
        "    ]\n",
        ")"
      ]
    },
    {
      "cell_type": "code",
      "execution_count": null,
      "metadata": {
        "id": "OO86rISjeZHO"
      },
      "outputs": [],
      "source": [
        "weight = 2*np.random.random((3,1))-1"
      ]
    },
    {
      "cell_type": "code",
      "execution_count": null,
      "metadata": {
        "colab": {
          "base_uri": "https://localhost:8080/"
        },
        "id": "OWJrQ6DFekPO",
        "outputId": "14b2d77f-2f30-4057-bcb6-c40789abfb45"
      },
      "outputs": [
        {
          "data": {
            "text/plain": [
              "array([[ 0.76857316],\n",
              "       [ 0.41280464],\n",
              "       [-0.9123852 ]])"
            ]
          },
          "execution_count": 33,
          "metadata": {},
          "output_type": "execute_result"
        }
      ],
      "source": [
        "weight"
      ]
    },
    {
      "cell_type": "code",
      "execution_count": null,
      "metadata": {
        "id": "z3JpoRhfemMW"
      },
      "outputs": [],
      "source": [
        "#summation\n",
        "# def summation(a, b):\n",
        "#     return np.data(a, b)\n",
        "# activation\n",
        "\n",
        "def activation(x):\n",
        "    return (1/(1+np.exp(-x)))"
      ]
    },
    {
      "cell_type": "code",
      "execution_count": null,
      "metadata": {
        "id": "qb33_6KmgXl9"
      },
      "outputs": [],
      "source": [
        "pred_output = activation(np.dot(train_input, weight))"
      ]
    },
    {
      "cell_type": "code",
      "execution_count": null,
      "metadata": {
        "colab": {
          "base_uri": "https://localhost:8080/"
        },
        "id": "uD0lvdZngktG",
        "outputId": "3c7ee770-c77f-4a11-f60a-0987fc6b7479"
      },
      "outputs": [
        {
          "data": {
            "text/plain": [
              "array([[0.76519545],\n",
              "       [0.60176019],\n",
              "       [0.286512  ],\n",
              "       [0.68321216]])"
            ]
          },
          "execution_count": 36,
          "metadata": {},
          "output_type": "execute_result"
        }
      ],
      "source": [
        "pred_output"
      ]
    },
    {
      "cell_type": "code",
      "execution_count": null,
      "metadata": {
        "colab": {
          "base_uri": "https://localhost:8080/"
        },
        "id": "0jptyZJdgoR-",
        "outputId": "f7b3ea16-3c12-4f6f-e08d-63e71222eed4"
      },
      "outputs": [
        {
          "data": {
            "text/plain": [
              "array([[1.],\n",
              "       [1.],\n",
              "       [0.],\n",
              "       [1.]])"
            ]
          },
          "execution_count": 37,
          "metadata": {},
          "output_type": "execute_result"
        }
      ],
      "source": [
        "np.round(pred_output)"
      ]
    },
    {
      "cell_type": "code",
      "execution_count": null,
      "metadata": {
        "colab": {
          "base_uri": "https://localhost:8080/"
        },
        "id": "56CHQ-5Zg0f-",
        "outputId": "ab392e40-8dae-4442-9b43-80a7c92f0eb3"
      },
      "outputs": [
        {
          "data": {
            "text/plain": [
              "array([[ 0.23480455],\n",
              "       [-0.60176019],\n",
              "       [-0.286512  ],\n",
              "       [ 0.31678784]])"
            ]
          },
          "execution_count": 38,
          "metadata": {},
          "output_type": "execute_result"
        }
      ],
      "source": [
        "error = train_output-pred_output\n",
        "error"
      ]
    },
    {
      "cell_type": "code",
      "execution_count": null,
      "metadata": {
        "id": "dpgEeYbqqSvS"
      },
      "outputs": [],
      "source": [
        "# error normalisation so we use derivaties\n",
        "def derivative(x):\n",
        "  return (x*(1-x))"
      ]
    },
    {
      "cell_type": "code",
      "execution_count": null,
      "metadata": {
        "colab": {
          "background_save": true
        },
        "id": "3rP70JnEqhxe"
      },
      "outputs": [],
      "source": [
        "adjusted_value = error * derivative(pred_output)"
      ]
    },
    {
      "cell_type": "code",
      "execution_count": null,
      "metadata": {
        "colab": {
          "base_uri": "https://localhost:8080/",
          "height": 193
        },
        "id": "XxRk8lFrikgG",
        "outputId": "b445c7ad-2876-4dff-cd20-1fbca0640fc8"
      },
      "outputs": [
        {
          "ename": "NameError",
          "evalue": "name 'derivative' is not defined",
          "output_type": "error",
          "traceback": [
            "\u001b[0;31m---------------------------------------------------------------------------\u001b[0m",
            "\u001b[0;31mNameError\u001b[0m                                 Traceback (most recent call last)",
            "\u001b[0;32m<ipython-input-18-a2445e774f8c>\u001b[0m in \u001b[0;36m<cell line: 1>\u001b[0;34m()\u001b[0m\n\u001b[1;32m      2\u001b[0m   \u001b[0mpred_output\u001b[0m \u001b[0;34m=\u001b[0m \u001b[0mactivation\u001b[0m\u001b[0;34m(\u001b[0m\u001b[0mnp\u001b[0m\u001b[0;34m.\u001b[0m\u001b[0mdot\u001b[0m\u001b[0;34m(\u001b[0m\u001b[0mtrain_input\u001b[0m\u001b[0;34m,\u001b[0m \u001b[0mweight\u001b[0m\u001b[0;34m)\u001b[0m\u001b[0;34m)\u001b[0m \u001b[0;31m# output 1\u001b[0m\u001b[0;34m\u001b[0m\u001b[0;34m\u001b[0m\u001b[0m\n\u001b[1;32m      3\u001b[0m   \u001b[0merror\u001b[0m \u001b[0;34m=\u001b[0m \u001b[0mtrain_output\u001b[0m\u001b[0;34m-\u001b[0m\u001b[0mpred_output\u001b[0m\u001b[0;34m\u001b[0m\u001b[0;34m\u001b[0m\u001b[0m\n\u001b[0;32m----> 4\u001b[0;31m   \u001b[0mupdates\u001b[0m \u001b[0;34m=\u001b[0m \u001b[0merror\u001b[0m\u001b[0;34m*\u001b[0m\u001b[0mderivative\u001b[0m\u001b[0;34m(\u001b[0m\u001b[0mpred_output\u001b[0m\u001b[0;34m)\u001b[0m\u001b[0;34m\u001b[0m\u001b[0;34m\u001b[0m\u001b[0m\n\u001b[0m\u001b[1;32m      5\u001b[0m   \u001b[0mweight\u001b[0m \u001b[0;34m+=\u001b[0m\u001b[0mnp\u001b[0m\u001b[0;34m.\u001b[0m\u001b[0mdot\u001b[0m\u001b[0;34m(\u001b[0m\u001b[0mtrain_input\u001b[0m\u001b[0;34m.\u001b[0m\u001b[0mT\u001b[0m\u001b[0;34m,\u001b[0m \u001b[0mupdates\u001b[0m\u001b[0;34m)\u001b[0m\u001b[0;34m\u001b[0m\u001b[0;34m\u001b[0m\u001b[0m\n",
            "\u001b[0;31mNameError\u001b[0m: name 'derivative' is not defined"
          ]
        }
      ],
      "source": [
        "for i in range(10):\n",
        "  pred_output = activation(np.dot(train_input, weight)) # output 1\n",
        "  error = train_output-pred_output\n",
        "  updates = error*derivative(pred_output)\n",
        "  weight +=np.dot(train_input.T, updates)"
      ]
    },
    {
      "cell_type": "code",
      "execution_count": null,
      "metadata": {
        "colab": {
          "base_uri": "https://localhost:8080/"
        },
        "id": "303m7OSMlsG-",
        "outputId": "48c39471-09c1-4c9e-9dc0-197145f5dec3"
      },
      "outputs": [
        {
          "data": {
            "text/plain": [
              "array([[0.21173796],\n",
              "       [0.00437842],\n",
              "       [0.37309391]])"
            ]
          },
          "execution_count": 17,
          "metadata": {},
          "output_type": "execute_result"
        }
      ],
      "source": [
        "weight"
      ]
    },
    {
      "cell_type": "code",
      "execution_count": null,
      "metadata": {
        "id": "qnwG8M5XltZW"
      },
      "outputs": [],
      "source": [
        "import tensorflow as tf\n",
        "from tensorflow import keras\n",
        "import matplotlib.pyplot as plt"
      ]
    },
    {
      "cell_type": "code",
      "execution_count": null,
      "metadata": {
        "colab": {
          "base_uri": "https://localhost:8080/"
        },
        "id": "Z2zyWxwnn8uT",
        "outputId": "bd74343b-8d51-472a-ee90-f4539f734b2f"
      },
      "outputs": [
        {
          "name": "stdout",
          "output_type": "stream",
          "text": [
            "Downloading data from https://storage.googleapis.com/tensorflow/tf-keras-datasets/mnist.npz\n",
            "11490434/11490434 [==============================] - 0s 0us/step\n"
          ]
        }
      ],
      "source": [
        "(x_train, y_train), (x_test, y_test) = keras.datasets.mnist.load_data()"
      ]
    },
    {
      "cell_type": "code",
      "execution_count": null,
      "metadata": {
        "colab": {
          "base_uri": "https://localhost:8080/"
        },
        "id": "au6mXlSIooRW",
        "outputId": "4ffaea79-3886-457a-89bd-ecf3b4d150cf"
      },
      "outputs": [
        {
          "data": {
            "text/plain": [
              "60000"
            ]
          },
          "execution_count": 23,
          "metadata": {},
          "output_type": "execute_result"
        }
      ],
      "source": [
        "len(x_train)"
      ]
    },
    {
      "cell_type": "code",
      "execution_count": null,
      "metadata": {
        "colab": {
          "base_uri": "https://localhost:8080/"
        },
        "id": "JKru7rwao4wW",
        "outputId": "18096e11-1868-4ccd-ab3a-b611a93f1b50"
      },
      "outputs": [
        {
          "data": {
            "text/plain": [
              "10000"
            ]
          },
          "execution_count": 24,
          "metadata": {},
          "output_type": "execute_result"
        }
      ],
      "source": [
        "len(x_test)"
      ]
    },
    {
      "cell_type": "code",
      "execution_count": null,
      "metadata": {
        "colab": {
          "base_uri": "https://localhost:8080/",
          "height": 472
        },
        "id": "dhdHWu_Io70W",
        "outputId": "e6f5c4e2-c1d0-446a-a64c-8c773b9efadb"
      },
      "outputs": [
        {
          "data": {
            "text/plain": [
              "<matplotlib.image.AxesImage at 0x7f190a5dd360>"
            ]
          },
          "execution_count": 30,
          "metadata": {},
          "output_type": "execute_result"
        },
        {
          "data": {
            "text/plain": [
              "<Figure size 400x400 with 0 Axes>"
            ]
          },
          "metadata": {},
          "output_type": "display_data"
        },
        {
          "data": {
            "image/png": "[encoded data removed]",
            "text/plain": [
              "<Figure size 480x480 with 1 Axes>"
            ]
          },
          "metadata": {},
          "output_type": "display_data"
        }
      ],
      "source": [
        "plt.figure(figsize=(4,4))\n",
        "plt.matshow(x_train[4])"
      ]
    },
    {
      "cell_type": "code",
      "execution_count": null,
      "metadata": {
        "colab": {
          "base_uri": "https://localhost:8080/"
        },
        "id": "AEE2J20upFCN",
        "outputId": "8c0ce300-3c35-4fdb-a9c4-5e22713673e6"
      },
      "outputs": [
        {
          "data": {
            "text/plain": [
              "(60000, 28, 28)"
            ]
          },
          "execution_count": 31,
          "metadata": {},
          "output_type": "execute_result"
        }
      ],
      "source": [
        "x_train.shape"
      ]
    },
    {
      "cell_type": "code",
      "execution_count": null,
      "metadata": {
        "id": "i6L262Y-psh-"
      },
      "outputs": [],
      "source": []
    }
  ],
  "metadata": {
    "colab": {
      "provenance": []
    },
    "kernelspec": {
      "display_name": "Python 3",
      "name": "python3"
    },
    "language_info": {
      "name": "python"
    }
  },
  "nbformat": 4,
  "nbformat_minor": 0
}