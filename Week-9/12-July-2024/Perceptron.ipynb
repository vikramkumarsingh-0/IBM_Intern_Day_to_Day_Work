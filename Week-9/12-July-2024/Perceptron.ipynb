{
  "nbformat": 4,
  "nbformat_minor": 0,
  "metadata": {
    "colab": {
      "provenance": []
    },
    "kernelspec": {
      "name": "python3",
      "display_name": "Python 3"
    },
    "language_info": {
      "name": "python"
    }
  },
  "cells": [
    {
      "cell_type": "code",
      "execution_count": 16,
      "metadata": {
        "id": "gzBgXHdjO8IO"
      },
      "outputs": [],
      "source": [
        "import numpy as np"
      ]
    },
    {
      "cell_type": "code",
      "source": [
        "# activation function\n",
        "\n",
        "def sigmoid(x):\n",
        "    return (1/(1+np.exp(-x)))"
      ],
      "metadata": {
        "id": "ss75cSoLQpfQ"
      },
      "execution_count": 18,
      "outputs": []
    },
    {
      "cell_type": "code",
      "source": [
        "def s_der(x):\n",
        "    return x*(1-x)"
      ],
      "metadata": {
        "id": "dw4mfZ2ysoJm"
      },
      "execution_count": 19,
      "outputs": []
    },
    {
      "cell_type": "code",
      "source": [
        "#inputs\n",
        "input = np.array(\n",
        "    [\n",
        "        [1,0,1],\n",
        "        [1,1,1],\n",
        "        [0,1,1],\n",
        "        [0,0,1]\n",
        "    ]\n",
        ")"
      ],
      "metadata": {
        "id": "_NakfB2ZQ_m4"
      },
      "execution_count": 20,
      "outputs": []
    },
    {
      "cell_type": "code",
      "source": [
        "t_output = np.array([[1,1,0,0]]).T\n",
        "print(t_output)"
      ],
      "metadata": {
        "colab": {
          "base_uri": "https://localhost:8080/"
        },
        "id": "Si2jp6rdRU6-",
        "outputId": "a54b9225-4458-4bd3-e988-acdcd2681558"
      },
      "execution_count": 21,
      "outputs": [
        {
          "output_type": "stream",
          "name": "stdout",
          "text": [
            "[[1]\n",
            " [1]\n",
            " [0]\n",
            " [0]]\n"
          ]
        }
      ]
    },
    {
      "cell_type": "code",
      "source": [
        "weights = 2*np.random.random((3,1))-1\n",
        "weights"
      ],
      "metadata": {
        "colab": {
          "base_uri": "https://localhost:8080/"
        },
        "id": "jMq9NpclShhm",
        "outputId": "73f515d5-6d79-4deb-912c-5cff76666b45"
      },
      "execution_count": 22,
      "outputs": [
        {
          "output_type": "execute_result",
          "data": {
            "text/plain": [
              "array([[ 0.43378483],\n",
              "       [-0.4737195 ],\n",
              "       [-0.54985858]])"
            ]
          },
          "metadata": {},
          "execution_count": 22
        }
      ]
    },
    {
      "cell_type": "code",
      "source": [
        "for i in range(10):\n",
        "  output = sigmoid(np.dot(input, weights))\n",
        "  error = t_output - output\n",
        "  adjustments = error * s_der(output)\n",
        "  weights += np.dot(input.T, adjustments)\n",
        "np.round(output)"
      ],
      "metadata": {
        "id": "jFJ6bGjsTmew",
        "colab": {
          "base_uri": "https://localhost:8080/"
        },
        "outputId": "b78cf650-4919-42f6-9019-a33527960866"
      },
      "execution_count": 23,
      "outputs": [
        {
          "output_type": "execute_result",
          "data": {
            "text/plain": [
              "array([[1.],\n",
              "       [1.],\n",
              "       [0.],\n",
              "       [0.]])"
            ]
          },
          "metadata": {},
          "execution_count": 23
        }
      ]
    },
    {
      "cell_type": "code",
      "source": [
        "output"
      ],
      "metadata": {
        "colab": {
          "base_uri": "https://localhost:8080/"
        },
        "id": "QPQmIy3cVbm8",
        "outputId": "43db7000-b707-405b-a32d-0adeaf860a4d"
      },
      "execution_count": null,
      "outputs": [
        {
          "output_type": "execute_result",
          "data": {
            "text/plain": [
              "array([[0.71403559],\n",
              "       [0.54143429],\n",
              "       [0.34679038],\n",
              "       [0.52891015]])"
            ]
          },
          "metadata": {},
          "execution_count": 14
        }
      ]
    },
    {
      "cell_type": "code",
      "source": [
        "np.round(output)"
      ],
      "metadata": {
        "colab": {
          "base_uri": "https://localhost:8080/"
        },
        "id": "rO885RCZWDE-",
        "outputId": "4598dae1-259b-433d-f389-9b57bae3e776"
      },
      "execution_count": null,
      "outputs": [
        {
          "output_type": "execute_result",
          "data": {
            "text/plain": [
              "array([[1.],\n",
              "       [1.],\n",
              "       [0.],\n",
              "       [1.]])"
            ]
          },
          "metadata": {},
          "execution_count": 15
        }
      ]
    }
  ]
}