{
 "cells": [
  {
   "cell_type": "code",
   "execution_count": 1,
   "id": "cd3844ea",
   "metadata": {},
   "outputs": [],
   "source": [
    "import numpy as np\n",
    "import torch.nn as nn\n",
    "import torch"
   ]
  },
  {
   "cell_type": "code",
   "execution_count": 2,
   "id": "b2cbd093",
   "metadata": {},
   "outputs": [
    {
     "name": "stdout",
     "output_type": "stream",
     "text": [
      "softmax  outputs: [0.05948688 0.1617021  0.43955189 0.07265744 0.2666017 ]\n"
     ]
    }
   ],
   "source": [
    "def softmax1(x):\n",
    "    return np.exp(x)/np.sum(np.exp(x))\n",
    "\n",
    "x = np.array([2, 3, 4, 2.2, 3.5])\n",
    "output = softmax1(x)\n",
    "print(\"softmax  outputs:\", output)"
   ]
  },
  {
   "cell_type": "code",
   "execution_count": 3,
   "id": "5fccd9f8",
   "metadata": {},
   "outputs": [],
   "source": [
    "y = torch.tensor(x)"
   ]
  },
  {
   "cell_type": "code",
   "execution_count": 4,
   "id": "eadb4be4",
   "metadata": {},
   "outputs": [
    {
     "data": {
      "text/plain": [
       "tensor([0.0595, 0.1617, 0.4396, 0.0727, 0.2666], dtype=torch.float64)"
      ]
     },
     "execution_count": 4,
     "metadata": {},
     "output_type": "execute_result"
    }
   ],
   "source": [
    "output = torch.softmax(y, dim=0)\n",
    "output"
   ]
  },
  {
   "cell_type": "code",
   "execution_count": 5,
   "id": "1ff67eff",
   "metadata": {},
   "outputs": [
    {
     "data": {
      "text/plain": [
       "tensor([0.8808, 0.9526, 0.9820, 0.9002, 0.9707], dtype=torch.float64)"
      ]
     },
     "execution_count": 5,
     "metadata": {},
     "output_type": "execute_result"
    }
   ],
   "source": [
    "torch.sigmoid(y)"
   ]
  },
  {
   "cell_type": "code",
   "execution_count": 6,
   "id": "4473e8fe",
   "metadata": {},
   "outputs": [
    {
     "data": {
      "text/plain": [
       "tensor([2.0000, 3.0000, 4.0000, 2.2000, 3.5000], dtype=torch.float64)"
      ]
     },
     "execution_count": 6,
     "metadata": {},
     "output_type": "execute_result"
    }
   ],
   "source": [
    "torch.relu(y)"
   ]
  },
  {
   "cell_type": "code",
   "execution_count": 8,
   "id": "5b683ba7",
   "metadata": {},
   "outputs": [
    {
     "data": {
      "text/plain": [
       "tensor([0.9640, 0.9951, 0.9993, 0.9757, 0.9982], dtype=torch.float64)"
      ]
     },
     "execution_count": 8,
     "metadata": {},
     "output_type": "execute_result"
    }
   ],
   "source": [
    "torch.tanh(y)"
   ]
  },
  {
   "cell_type": "code",
   "execution_count": 9,
   "id": "5c474a39",
   "metadata": {},
   "outputs": [],
   "source": [
    "a = np.array([2, 3, 4, 2.2, 3.5])"
   ]
  },
  {
   "cell_type": "code",
   "execution_count": 10,
   "id": "8d0bf7a7",
   "metadata": {},
   "outputs": [],
   "source": [
    "b = torch.tensor(a)"
   ]
  },
  {
   "cell_type": "code",
   "execution_count": 13,
   "id": "35f34e89",
   "metadata": {},
   "outputs": [
    {
     "data": {
      "text/plain": [
       "tensor([0.0595, 0.1617, 0.4396, 0.0727, 0.2666], dtype=torch.float64)"
      ]
     },
     "execution_count": 13,
     "metadata": {},
     "output_type": "execute_result"
    }
   ],
   "source": [
    "torch.softmax(b, dim=0)"
   ]
  },
  {
   "cell_type": "code",
   "execution_count": 14,
   "id": "2b694b78",
   "metadata": {},
   "outputs": [
    {
     "data": {
      "text/plain": [
       "tensor([0.9640, 0.9951, 0.9993, 0.9757, 0.9982], dtype=torch.float64)"
      ]
     },
     "execution_count": 14,
     "metadata": {},
     "output_type": "execute_result"
    }
   ],
   "source": [
    "torch.tanh(b)"
   ]
  },
  {
   "cell_type": "code",
   "execution_count": 15,
   "id": "08f19847",
   "metadata": {},
   "outputs": [
    {
     "data": {
      "text/plain": [
       "tensor([2.0000, 3.0000, 4.0000, 2.2000, 3.5000], dtype=torch.float64)"
      ]
     },
     "execution_count": 15,
     "metadata": {},
     "output_type": "execute_result"
    }
   ],
   "source": [
    "torch.relu(b)"
   ]
  },
  {
   "cell_type": "code",
   "execution_count": 16,
   "id": "2248544c",
   "metadata": {},
   "outputs": [
    {
     "data": {
      "text/plain": [
       "tensor([0.8808, 0.9526, 0.9820, 0.9002, 0.9707], dtype=torch.float64)"
      ]
     },
     "execution_count": 16,
     "metadata": {},
     "output_type": "execute_result"
    }
   ],
   "source": [
    "torch.sigmoid(b)"
   ]
  },
  {
   "cell_type": "code",
   "execution_count": 23,
   "id": "f83e13f8",
   "metadata": {},
   "outputs": [
    {
     "name": "stdout",
     "output_type": "stream",
     "text": [
      "tensor([2.0000, 3.0000, 4.0000, 2.2000, 3.5000], dtype=torch.float64)\n"
     ]
    }
   ],
   "source": [
    "import torch\n",
    "import torch.nn as nn\n",
    " \n",
    "# defining Lrelu and the parameter 0.2 is passed to control the negative slope ; a=0.2\n",
    "r = nn.LeakyReLU(0.2)\n",
    " \n",
    "# Creating a Tensor with an array \n",
    "input = torch.Tensor([1,-2,3,-5])\n",
    " \n",
    "output = r(b) \n",
    " \n",
    "print(output)"
   ]
  },
  {
   "cell_type": "code",
   "execution_count": 24,
   "id": "1892dfa8",
   "metadata": {},
   "outputs": [
    {
     "data": {
      "text/plain": [
       "LeakyReLU(negative_slope=tensor([2.0000, 3.0000, 4.0000, 2.2000, 3.5000], dtype=torch.float64))"
      ]
     },
     "execution_count": 24,
     "metadata": {},
     "output_type": "execute_result"
    }
   ],
   "source": [
    "torch.nn.LeakyReLU(b)"
   ]
  }
 ],
 "metadata": {
  "kernelspec": {
   "display_name": "Python 3 (ipykernel)",
   "language": "python",
   "name": "python3"
  },
  "language_info": {
   "codemirror_mode": {
    "name": "ipython",
    "version": 3
   },
   "file_extension": ".py",
   "mimetype": "text/x-python",
   "name": "python",
   "nbconvert_exporter": "python",
   "pygments_lexer": "ipython3",
   "version": "3.11.4"
  }
 },
 "nbformat": 4,
 "nbformat_minor": 5
}
