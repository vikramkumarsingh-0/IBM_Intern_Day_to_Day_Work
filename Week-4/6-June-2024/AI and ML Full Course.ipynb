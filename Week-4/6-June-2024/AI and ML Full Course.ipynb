{
 "cells": [
  {
   "cell_type": "markdown",
   "id": "6ed77b9b",
   "metadata": {},
   "source": [
    "# Intuition behind the Regression line"
   ]
  },
  {
   "cell_type": "code",
   "execution_count": 1,
   "id": "489eaf58",
   "metadata": {},
   "outputs": [],
   "source": [
    "# We check the error for each line and conclude the best fit line having the least e square value.\n",
    "# Simple Linear Regression -> Y = m * c\n",
    "# Multiple Linear Regression -> Y = m1*x1 + m2*x2 + m3*x3 + .............. + mn*xn + C"
   ]
  },
  {
   "cell_type": "markdown",
   "id": "16e3fca5",
   "metadata": {},
   "source": [
    "# Use case implementation of Linear Regression"
   ]
  },
  {
   "cell_type": "code",
   "execution_count": 2,
   "id": "8718dcda",
   "metadata": {},
   "outputs": [],
   "source": [
    "#1. Import the libraries\n",
    "import numpy as np\n",
    "import matplotlib.pyplot as plt\n",
    "import pandas as pd\n",
    "import seaborn as sns\n",
    "%matplotlib inline"
   ]
  },
  {
   "cell_type": "code",
   "execution_count": 3,
   "id": "69c4e4f3",
   "metadata": {},
   "outputs": [
    {
     "data": {
      "text/html": [
       "<div>\n",
       "<style scoped>\n",
       "    .dataframe tbody tr th:only-of-type {\n",
       "        vertical-align: middle;\n",
       "    }\n",
       "\n",
       "    .dataframe tbody tr th {\n",
       "        vertical-align: top;\n",
       "    }\n",
       "\n",
       "    .dataframe thead th {\n",
       "        text-align: right;\n",
       "    }\n",
       "</style>\n",
       "<table border=\"1\" class=\"dataframe\">\n",
       "  <thead>\n",
       "    <tr style=\"text-align: right;\">\n",
       "      <th></th>\n",
       "      <th>R&amp;D Spend</th>\n",
       "      <th>Administration</th>\n",
       "      <th>Marketing Spend</th>\n",
       "      <th>State</th>\n",
       "      <th>Profit</th>\n",
       "    </tr>\n",
       "  </thead>\n",
       "  <tbody>\n",
       "    <tr>\n",
       "      <th>0</th>\n",
       "      <td>165349.20</td>\n",
       "      <td>136897.80</td>\n",
       "      <td>471784.10</td>\n",
       "      <td>New York</td>\n",
       "      <td>192261.83</td>\n",
       "    </tr>\n",
       "    <tr>\n",
       "      <th>1</th>\n",
       "      <td>162597.70</td>\n",
       "      <td>151377.59</td>\n",
       "      <td>443898.53</td>\n",
       "      <td>California</td>\n",
       "      <td>191792.06</td>\n",
       "    </tr>\n",
       "    <tr>\n",
       "      <th>2</th>\n",
       "      <td>153441.51</td>\n",
       "      <td>101145.55</td>\n",
       "      <td>407934.54</td>\n",
       "      <td>Florida</td>\n",
       "      <td>191050.39</td>\n",
       "    </tr>\n",
       "    <tr>\n",
       "      <th>3</th>\n",
       "      <td>144372.41</td>\n",
       "      <td>118671.85</td>\n",
       "      <td>383199.62</td>\n",
       "      <td>New York</td>\n",
       "      <td>182901.99</td>\n",
       "    </tr>\n",
       "    <tr>\n",
       "      <th>4</th>\n",
       "      <td>142107.34</td>\n",
       "      <td>91391.77</td>\n",
       "      <td>366168.42</td>\n",
       "      <td>Florida</td>\n",
       "      <td>166187.94</td>\n",
       "    </tr>\n",
       "  </tbody>\n",
       "</table>\n",
       "</div>"
      ],
      "text/plain": [
       "   R&D Spend  Administration  Marketing Spend       State     Profit\n",
       "0  165349.20       136897.80        471784.10    New York  192261.83\n",
       "1  162597.70       151377.59        443898.53  California  191792.06\n",
       "2  153441.51       101145.55        407934.54     Florida  191050.39\n",
       "3  144372.41       118671.85        383199.62    New York  182901.99\n",
       "4  142107.34        91391.77        366168.42     Florida  166187.94"
      ]
     },
     "execution_count": 3,
     "metadata": {},
     "output_type": "execute_result"
    }
   ],
   "source": [
    "# Import the dataset and Extracting the independent and dependent variables\n",
    "companies = pd.read_csv('1000_Companies.csv')\n",
    "X = companies.iloc[:, :-1].values\n",
    "Y = companies.iloc[:, 4].values\n",
    "\n",
    "companies.head()"
   ]
  },
  {
   "cell_type": "code",
   "execution_count": 10,
   "id": "8ded9f2c",
   "metadata": {},
   "outputs": [
    {
     "data": {
      "text/plain": [
       "<Axes: >"
      ]
     },
     "execution_count": 10,
     "metadata": {},
     "output_type": "execute_result"
    },
    {
     "data": {
      "image/png": "[encoded data removed]",
      "text/plain": [
       "<Figure size 640x480 with 2 Axes>"
      ]
     },
     "metadata": {},
     "output_type": "display_data"
    }
   ],
   "source": [
    "# Data Visualization\n",
    "# Building the Correlation matrix\n",
    "\n",
    "del companies['State']\n",
    "sns.heatmap(companies.corr())"
   ]
  },
  {
   "cell_type": "code",
   "execution_count": 21,
   "id": "e1a2a5a5",
   "metadata": {},
   "outputs": [
    {
     "ename": "TypeError",
     "evalue": "OneHotEncoder.__init__() got an unexpected keyword argument 'categorical_features'",
     "output_type": "error",
     "traceback": [
      "\u001b[1;31m---------------------------------------------------------------------------\u001b[0m",
      "\u001b[1;31mTypeError\u001b[0m                                 Traceback (most recent call last)",
      "Cell \u001b[1;32mIn[21], line 6\u001b[0m\n\u001b[0;32m      3\u001b[0m labelencoder \u001b[38;5;241m=\u001b[39m LabelEncoder()\n\u001b[0;32m      4\u001b[0m X[:, \u001b[38;5;241m3\u001b[39m] \u001b[38;5;241m=\u001b[39m labelencoder\u001b[38;5;241m.\u001b[39mfit_transform(X[:, \u001b[38;5;241m3\u001b[39m])\n\u001b[1;32m----> 6\u001b[0m onehotencoder \u001b[38;5;241m=\u001b[39m \u001b[43mOneHotEncoder\u001b[49m\u001b[43m(\u001b[49m\u001b[43mcategorical_features\u001b[49m\u001b[43m \u001b[49m\u001b[38;5;241;43m=\u001b[39;49m\u001b[43m \u001b[49m\u001b[43m[\u001b[49m\u001b[38;5;241;43m3\u001b[39;49m\u001b[43m]\u001b[49m\u001b[43m)\u001b[49m\n\u001b[0;32m      7\u001b[0m X \u001b[38;5;241m=\u001b[39m onehotencoder\u001b[38;5;241m.\u001b[39mfit_transform(X)\u001b[38;5;241m.\u001b[39mtoarray()\n",
      "\u001b[1;31mTypeError\u001b[0m: OneHotEncoder.__init__() got an unexpected keyword argument 'categorical_features'"
     ]
    }
   ],
   "source": [
    "# Encoding categorical data\n",
    "from sklearn.preprocessing import LabelEncoder, OneHotEncoder\n",
    "labelencoder = LabelEncoder()\n",
    "X[:, 3] = labelencoder.fit_transform(X[:, 3])\n",
    "\n",
    "onehotencoder = OneHotEncoder(categorical_features = [3])\n",
    "X = onehotencoder.fit_transform(X).toarray()"
   ]
  },
  {
   "cell_type": "code",
   "execution_count": 22,
   "id": "a273398b",
   "metadata": {},
   "outputs": [],
   "source": [
    "# Avoiding Dummy Variable Trap\n",
    "X = X[:, 1:]"
   ]
  },
  {
   "cell_type": "code",
   "execution_count": 24,
   "id": "782c3676",
   "metadata": {},
   "outputs": [],
   "source": [
    "# Splitting the dataset into the Training set and Test set\n",
    "from sklearn.model_selection import train_test_split\n",
    "X_train, X_test, y_train, y_test = train_test_split(X, Y, test_size = 0.2, random_state = 0)"
   ]
  },
  {
   "cell_type": "code",
   "execution_count": 25,
   "id": "a26e8c25",
   "metadata": {},
   "outputs": [
    {
     "data": {
      "text/html": [
       "<style>#sk-container-id-1 {color: black;}#sk-container-id-1 pre{padding: 0;}#sk-container-id-1 div.sk-toggleable {background-color: white;}#sk-container-id-1 label.sk-toggleable__label {cursor: pointer;display: block;width: 100%;margin-bottom: 0;padding: 0.3em;box-sizing: border-box;text-align: center;}#sk-container-id-1 label.sk-toggleable__label-arrow:before {content: \"▸\";float: left;margin-right: 0.25em;color: #696969;}#sk-container-id-1 label.sk-toggleable__label-arrow:hover:before {color: black;}#sk-container-id-1 div.sk-estimator:hover label.sk-toggleable__label-arrow:before {color: black;}#sk-container-id-1 div.sk-toggleable__content {max-height: 0;max-width: 0;overflow: hidden;text-align: left;background-color: #f0f8ff;}#sk-container-id-1 div.sk-toggleable__content pre {margin: 0.2em;color: black;border-radius: 0.25em;background-color: #f0f8ff;}#sk-container-id-1 input.sk-toggleable__control:checked~div.sk-toggleable__content {max-height: 200px;max-width: 100%;overflow: auto;}#sk-container-id-1 input.sk-toggleable__control:checked~label.sk-toggleable__label-arrow:before {content: \"▾\";}#sk-container-id-1 div.sk-estimator input.sk-toggleable__control:checked~label.sk-toggleable__label {background-color: #d4ebff;}#sk-container-id-1 div.sk-label input.sk-toggleable__control:checked~label.sk-toggleable__label {background-color: #d4ebff;}#sk-container-id-1 input.sk-hidden--visually {border: 0;clip: rect(1px 1px 1px 1px);clip: rect(1px, 1px, 1px, 1px);height: 1px;margin: -1px;overflow: hidden;padding: 0;position: absolute;width: 1px;}#sk-container-id-1 div.sk-estimator {font-family: monospace;background-color: #f0f8ff;border: 1px dotted black;border-radius: 0.25em;box-sizing: border-box;margin-bottom: 0.5em;}#sk-container-id-1 div.sk-estimator:hover {background-color: #d4ebff;}#sk-container-id-1 div.sk-parallel-item::after {content: \"\";width: 100%;border-bottom: 1px solid gray;flex-grow: 1;}#sk-container-id-1 div.sk-label:hover label.sk-toggleable__label {background-color: #d4ebff;}#sk-container-id-1 div.sk-serial::before {content: \"\";position: absolute;border-left: 1px solid gray;box-sizing: border-box;top: 0;bottom: 0;left: 50%;z-index: 0;}#sk-container-id-1 div.sk-serial {display: flex;flex-direction: column;align-items: center;background-color: white;padding-right: 0.2em;padding-left: 0.2em;position: relative;}#sk-container-id-1 div.sk-item {position: relative;z-index: 1;}#sk-container-id-1 div.sk-parallel {display: flex;align-items: stretch;justify-content: center;background-color: white;position: relative;}#sk-container-id-1 div.sk-item::before, #sk-container-id-1 div.sk-parallel-item::before {content: \"\";position: absolute;border-left: 1px solid gray;box-sizing: border-box;top: 0;bottom: 0;left: 50%;z-index: -1;}#sk-container-id-1 div.sk-parallel-item {display: flex;flex-direction: column;z-index: 1;position: relative;background-color: white;}#sk-container-id-1 div.sk-parallel-item:first-child::after {align-self: flex-end;width: 50%;}#sk-container-id-1 div.sk-parallel-item:last-child::after {align-self: flex-start;width: 50%;}#sk-container-id-1 div.sk-parallel-item:only-child::after {width: 0;}#sk-container-id-1 div.sk-dashed-wrapped {border: 1px dashed gray;margin: 0 0.4em 0.5em 0.4em;box-sizing: border-box;padding-bottom: 0.4em;background-color: white;}#sk-container-id-1 div.sk-label label {font-family: monospace;font-weight: bold;display: inline-block;line-height: 1.2em;}#sk-container-id-1 div.sk-label-container {text-align: center;}#sk-container-id-1 div.sk-container {/* jupyter's `normalize.less` sets `[hidden] { display: none; }` but bootstrap.min.css set `[hidden] { display: none !important; }` so we also need the `!important` here to be able to override the default hidden behavior on the sphinx rendered scikit-learn.org. See: https://github.com/scikit-learn/scikit-learn/issues/21755 */display: inline-block !important;position: relative;}#sk-container-id-1 div.sk-text-repr-fallback {display: none;}</style><div id=\"sk-container-id-1\" class=\"sk-top-container\"><div class=\"sk-text-repr-fallback\"><pre>LinearRegression()</pre><b>In a Jupyter environment, please rerun this cell to show the HTML representation or trust the notebook. <br />On GitHub, the HTML representation is unable to render, please try loading this page with nbviewer.org.</b></div><div class=\"sk-container\" hidden><div class=\"sk-item\"><div class=\"sk-estimator sk-toggleable\"><input class=\"sk-toggleable__control sk-hidden--visually\" id=\"sk-estimator-id-1\" type=\"checkbox\" checked><label for=\"sk-estimator-id-1\" class=\"sk-toggleable__label sk-toggleable__label-arrow\">LinearRegression</label><div class=\"sk-toggleable__content\"><pre>LinearRegression()</pre></div></div></div></div></div>"
      ],
      "text/plain": [
       "LinearRegression()"
      ]
     },
     "execution_count": 25,
     "metadata": {},
     "output_type": "execute_result"
    }
   ],
   "source": [
    "# Fitting Multiple Linear Regression to the Training set\n",
    "from sklearn.linear_model import LinearRegression\n",
    "regressor = LinearRegression()\n",
    "regressor.fit(X_train, y_train)"
   ]
  },
  {
   "cell_type": "code",
   "execution_count": 27,
   "id": "978edaee",
   "metadata": {},
   "outputs": [
    {
     "name": "stdout",
     "output_type": "stream",
     "text": [
      "[ 90209.64901318  88876.28325862  95200.74973042 174739.58503941\n",
      "  84013.74722284 110572.81423949 169438.58451208  91855.1682484\n",
      " 163402.29005648  54991.76617392  67874.72481309 150180.9861358\n",
      " 126512.60670878  60430.86889281 175991.46628657  76097.46542299\n",
      " 118577.95366564 163338.33779446 165329.70854714 180487.66382609\n",
      " 101238.40282718  86180.18269683 179933.75346041  84689.06190888\n",
      " 105088.13051962 101399.34780971  40828.42858138  58070.59626831\n",
      "  69777.85472814 226802.72627013 121052.52594777 111658.45981284\n",
      " 101689.86321283 137852.59801618  64960.45224275 108854.95146996\n",
      " 184345.94907957 170595.15880734 173725.92497117 118014.06326024\n",
      "  97038.60706862 164196.76013804 107746.47058118  52030.50278345\n",
      " 116882.08703837  59741.11018494 157857.27897357  79750.07622713\n",
      " 159139.45816291 131182.41311202 183735.81760226 173691.52102156\n",
      "  94077.16471212  79055.37228415 179193.73688257  85539.18255677\n",
      " 142685.10466661 169290.41285941  84946.0123958  105424.79762652\n",
      " 141471.73344522  53812.88851425 141109.98209805 138544.12449302\n",
      "  98525.35315256 114019.84013539 126396.98673988 151216.5527697\n",
      "  60009.80841183 173375.17181713 124272.14963365 167730.30512327\n",
      "  92206.01101456 155162.10688204  84847.65607993  78602.24617494\n",
      " 120695.89889888  93761.83359006 138350.10811473 142832.70064453\n",
      " 170307.33979742 139388.94182688 106463.63123443 154603.07232232\n",
      " 139379.05136376 110182.62230992  70537.26059843  88645.70361798\n",
      " 139438.45008128 147641.05170022 156869.72126349  59643.77197986\n",
      "  94081.53927638 113100.16181875  57752.56877436 107485.68247072\n",
      " 147038.4722533  151224.944042   166542.28652602 118528.35593888\n",
      " 121037.42174722 138899.82289638 156489.59877727 122209.67591778\n",
      "  87611.90462751 105420.51243038  95673.35467317 176889.50642142\n",
      " 180322.17764231 109848.65149198 164002.92284422 166498.47315072\n",
      " 156953.6334675  173362.67443317 168836.26856357  53550.90329145\n",
      " 175428.41512306 104839.75018099  83286.04901321 138264.69665116\n",
      " 144028.53976029 161047.62283516 168853.97964945 120731.98115931\n",
      " 158311.24418492 110180.76505437 168367.37799216  61822.13404496\n",
      " 157923.48016043 157075.12729573 173097.51172293 155283.77969052\n",
      " 103825.25107934  86188.75284512 140875.86692656 164693.69969128\n",
      " 121446.91360112 176415.2867655  101228.25635896  83227.39996098\n",
      " 177095.75155581 101943.93836181  71395.02274908  90700.7147071\n",
      "  62340.05164744  69835.09399318  74112.01200262 175404.91965022\n",
      "  90666.22114537 150611.55534056  93568.74599705  63961.30747995\n",
      " 171417.40945363  61952.19803214 168222.12034272 165172.65956631\n",
      " 164711.23169268 102856.15401618 180023.62903163  75018.26432529\n",
      "  91653.77885545 135192.49017143  65934.01337805  72635.24588968\n",
      "  61710.70977498 183156.8229963  175332.00553509 157838.90773028\n",
      " 140678.85216661 153637.42131765  59701.85037545  91559.88668045\n",
      " 151949.94585843 167617.95209287  73329.20016737 116442.3868544\n",
      "  81262.17503945 148960.9914253  116669.87853678 129716.3764601\n",
      " 173618.51732983 298075.79813027 145439.85431614 149760.67520877\n",
      "  87148.61949834  71365.56394454  71492.27147469  69912.11428869\n",
      " 120444.25162176  90141.01995445 166079.00146558 125143.15876482\n",
      "  68170.27493788 143636.00582325 118326.96654593 164632.26473798\n",
      " 167869.68891337 146162.33882386 140714.93439153 109120.29312493]\n"
     ]
    }
   ],
   "source": [
    "# Predicting the Test set results\n",
    "y_pred = regressor.predict(X_test)\n",
    "print(y_pred)"
   ]
  },
  {
   "cell_type": "code",
   "execution_count": 28,
   "id": "6b91d6a0",
   "metadata": {},
   "outputs": [
    {
     "name": "stdout",
     "output_type": "stream",
     "text": [
      "[   1.04239904    0.35510511 -320.45531609]\n"
     ]
    }
   ],
   "source": [
    "# Calculating the Coefficients\n",
    "print(regressor.coef_)"
   ]
  },
  {
   "cell_type": "code",
   "execution_count": 29,
   "id": "a7946e25",
   "metadata": {},
   "outputs": [
    {
     "name": "stdout",
     "output_type": "stream",
     "text": [
      "-88623.76527343795\n"
     ]
    }
   ],
   "source": [
    "# Calculating the Intercept\n",
    "print(regressor.intercept_)"
   ]
  },
  {
   "cell_type": "code",
   "execution_count": 30,
   "id": "3430c324",
   "metadata": {},
   "outputs": [
    {
     "data": {
      "text/plain": [
       "0.8985038788872524"
      ]
     },
     "execution_count": 30,
     "metadata": {},
     "output_type": "execute_result"
    }
   ],
   "source": [
    "# Calculating the R squared value\n",
    "from sklearn.metrics import r2_score\n",
    "r2_score(y_test, y_pred)"
   ]
  },
  {
   "cell_type": "markdown",
   "id": "b3710cc0",
   "metadata": {},
   "source": [
    "# What is Decision Tree?"
   ]
  },
  {
   "cell_type": "markdown",
   "id": "cab7370b",
   "metadata": {},
   "source": [
    "Decision Tree is a tree shaped diagram used to determine a course of action. Each branch of the tree represents a possible decision, occurence or reaction."
   ]
  },
  {
   "cell_type": "markdown",
   "id": "fe19172b",
   "metadata": {},
   "source": [
    "# Classification"
   ]
  },
  {
   "cell_type": "markdown",
   "id": "6afc4798",
   "metadata": {},
   "source": [
    "A classification tree will determine a set of logical if-then conditions to classify problems. For example, discriminating between three types of flowers based on certain features"
   ]
  },
  {
   "cell_type": "markdown",
   "id": "890df78a",
   "metadata": {},
   "source": [
    "# Regression"
   ]
  },
  {
   "cell_type": "markdown",
   "id": "b67bfa85",
   "metadata": {},
   "source": [
    "Regression tree is used when the target variable is numerical or continuous in nature. We fit a regression model to the target variable using each of the independent variables. Each split is made based on the sum of squared error."
   ]
  },
  {
   "cell_type": "code",
   "execution_count": null,
   "id": "14250b5f",
   "metadata": {},
   "outputs": [],
   "source": []
  }
 ],
 "metadata": {
  "kernelspec": {
   "display_name": "Python 3 (ipykernel)",
   "language": "python",
   "name": "python3"
  },
  "language_info": {
   "codemirror_mode": {
    "name": "ipython",
    "version": 3
   },
   "file_extension": ".py",
   "mimetype": "text/x-python",
   "name": "python",
   "nbconvert_exporter": "python",
   "pygments_lexer": "ipython3",
   "version": "3.11.4"
  }
 },
 "nbformat": 4,
 "nbformat_minor": 5
}
