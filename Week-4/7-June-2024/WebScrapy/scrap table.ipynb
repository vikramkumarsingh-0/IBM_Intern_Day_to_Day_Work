{
 "cells": [
  {
   "cell_type": "code",
   "execution_count": 7,
   "id": "7b67ac0c",
   "metadata": {},
   "outputs": [
    {
     "name": "stdout",
     "output_type": "stream",
     "text": [
      "Row does match to headers😃\n",
      "                                                Party  Won Leading Total\n",
      "0                        Bharatiya Janata Party - BJP  240       0   240\n",
      "1                      Indian National Congress - INC   99       0    99\n",
      "2                                Samajwadi Party - SP   37       0    37\n",
      "3                 All India Trinamool Congress - AITC   29       0    29\n",
      "4                     Dravida Munnetra Kazhagam - DMK   22       0    22\n",
      "5                                  Telugu Desam - TDP   16       0    16\n",
      "6                        Janata Dal  (United) - JD(U)   12       0    12\n",
      "7      Shiv Sena (Uddhav Balasaheb Thackrey) - SHSUBT    9       0     9\n",
      "8   Nationalist Congress Party – Sharadchandra Paw...    8       0     8\n",
      "9                                     Shiv Sena - SHS    7       0     7\n",
      "10             Lok Janshakti Party(Ram Vilas) - LJPRV    5       0     5\n",
      "11      Yuvajana Sramika Rythu Congress Party - YSRCP    4       0     4\n",
      "12                         Rashtriya Janata Dal - RJD    4       0     4\n",
      "13       Communist Party of India  (Marxist) - CPI(M)    4       0     4\n",
      "14                  Indian Union Muslim League - IUML    3       0     3\n",
      "15                             Aam Aadmi Party - AAAP    3       0     3\n",
      "16                       Jharkhand Mukti Morcha - JMM    3       0     3\n",
      "17                               Janasena Party - JnP    2       0     2\n",
      "18  Communist Party of India  (Marxist-Leninist)  ...    2       0     2\n",
      "19                      Janata Dal  (Secular) - JD(S)    2       0     2\n",
      "20               Viduthalai Chiruthaigal Katchi - VCK    2       0     2\n",
      "21                     Communist Party of India - CPI    2       0     2\n",
      "22                            Rashtriya Lok Dal - RLD    2       0     2\n",
      "23          Jammu & Kashmir National Conference - JKN    2       0     2\n",
      "24              United People’s Party, Liberal - UPPL    1       0     1\n",
      "25                           Asom Gana Parishad - AGP    1       0     1\n",
      "26            Hindustani Awam Morcha (Secular) - HAMS    1       0     1\n",
      "27                              Kerala Congress - KEC    1       0     1\n",
      "28                Revolutionary Socialist Party - RSP    1       0     1\n",
      "29                   Nationalist Congress Party - NCP    1       0     1\n",
      "30                  Voice of the People Party - VOTPP    1       0     1\n",
      "31                      Zoram People’s Movement - ZPM    1       0     1\n",
      "32                          Shiromani Akali Dal - SAD    1       0     1\n",
      "33                  Rashtriya Loktantrik Party - RLTP    1       0     1\n",
      "34                  Bharat Adivasi Party - BHRTADVSIP    1       0     1\n",
      "35                     Sikkim Krantikari Morcha - SKM    1       0     1\n",
      "36      Marumalarchi Dravida Munnetra Kazhagam - MDMK    1       0     1\n",
      "37             Aazad Samaj Party (Kanshi Ram) - ASPKR    1       0     1\n",
      "38                         Apna Dal (Soneylal) - ADAL    1       0     1\n",
      "39                                 AJSU Party - AJSUP    1       0     1\n",
      "40     All India Majlis-E-Ittehadul Muslimeen - AIMIM    1       0     1\n",
      "41                                  Independent - IND    7       0     7\n"
     ]
    }
   ],
   "source": [
    "import requests # for get data from website\n",
    "import pandas as pd # for column, td, etc\n",
    "from bs4 import BeautifulSoup # show in beautiful way\n",
    "\n",
    "# fetch the webpage content\n",
    "web = requests.get('https://results.eci.gov.in/PcResultGenJune2024/index.htm')\n",
    "\n",
    "soup = BeautifulSoup(web.content, \"html.parser\")\n",
    "\n",
    "tables = soup.find_all(\"table\") # for show all tables\n",
    "\n",
    "if tables:  # condition for showing table data\n",
    "    table = tables[0]\n",
    "    \n",
    "    column_data = table.find_all(\"tr\")\n",
    "    headers = [header.text.strip() for header in column_data[0].find_all('th')]\n",
    "    df = pd.DataFrame(columns = headers)\n",
    "    for row in column_data[1: ]:\n",
    "        row_data = row.find_all('td')\n",
    "        individual_row_data = [data.text.strip() for data in row_data]\n",
    "        if len(individual_row_data) == len(headers):\n",
    "            length = len(df)\n",
    "            df.loc[length] = individual_row_data\n",
    "        else:\n",
    "            print(\"Row does match to headers😃\")\n",
    "            \n",
    "else:\n",
    "    print(\"No tables found\")\n",
    "    \n",
    "print(df)"
   ]
  },
  {
   "cell_type": "code",
   "execution_count": 8,
   "id": "5539beec",
   "metadata": {},
   "outputs": [],
   "source": [
    "# convert file\n",
    "\n",
    "df.to_csv(\"election_result.csv\", index = False)"
   ]
  },
  {
   "cell_type": "code",
   "execution_count": null,
   "id": "a44496cc",
   "metadata": {},
   "outputs": [],
   "source": []
  }
 ],
 "metadata": {
  "kernelspec": {
   "display_name": "Python 3 (ipykernel)",
   "language": "python",
   "name": "python3"
  },
  "language_info": {
   "codemirror_mode": {
    "name": "ipython",
    "version": 3
   },
   "file_extension": ".py",
   "mimetype": "text/x-python",
   "name": "python",
   "nbconvert_exporter": "python",
   "pygments_lexer": "ipython3",
   "version": "3.11.4"
  }
 },
 "nbformat": 4,
 "nbformat_minor": 5
}
