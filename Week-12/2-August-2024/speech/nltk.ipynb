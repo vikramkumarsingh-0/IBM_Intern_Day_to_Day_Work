{
 "cells": [
  {
   "cell_type": "code",
   "execution_count": 1,
   "id": "a20ae419-08a2-45b7-bc61-489c2cbe5ee2",
   "metadata": {},
   "outputs": [],
   "source": [
    "from nltk import PorterStemmer\n",
    "s = PorterStemmer()"
   ]
  },
  {
   "cell_type": "code",
   "execution_count": 2,
   "id": "4f994c1c-86a9-4a03-be1a-ef08b67fdc79",
   "metadata": {},
   "outputs": [],
   "source": [
    "words =  ['eat', 'eating', 'eats', 'ate', 'happy', 'meeting', 'rafting']"
   ]
  },
  {
   "cell_type": "code",
   "execution_count": 3,
   "id": "b729c462-5c47-45be-b920-dedacc46135f",
   "metadata": {},
   "outputs": [
    {
     "name": "stdout",
     "output_type": "stream",
     "text": [
      "WORDS -- ROOTS\n",
      "eat  --  eat\n",
      "eating  --  eat\n",
      "eats  --  eat\n",
      "ate  --  ate\n",
      "happy  --  happi\n",
      "meeting  --  meet\n",
      "rafting  --  raft\n"
     ]
    }
   ],
   "source": [
    "print('WORDS -- ROOTS')\n",
    "for i in words:\n",
    "    print(i, \" -- \", s.stem(i))"
   ]
  },
  {
   "cell_type": "code",
   "execution_count": 4,
   "id": "78a19d63-85a8-48bb-bc8f-6fcd079d1e79",
   "metadata": {},
   "outputs": [],
   "source": [
    "from nltk.stem import WordNetLemmatizer\n",
    "from nltk.corpus import wordnet"
   ]
  },
  {
   "cell_type": "code",
   "execution_count": 6,
   "id": "3801801e",
   "metadata": {},
   "outputs": [
    {
     "data": {
      "text/plain": [
       "['eat', 'eating', 'eats', 'ate', 'happy', 'meeting', 'rafting']"
      ]
     },
     "execution_count": 6,
     "metadata": {},
     "output_type": "execute_result"
    }
   ],
   "source": [
    "l = WordNetLemmatizer()\n",
    "words"
   ]
  },
  {
   "cell_type": "code",
   "execution_count": 7,
   "id": "8316a113",
   "metadata": {},
   "outputs": [
    {
     "data": {
      "text/plain": [
       "['eat', 'eating', 'eats', 'ate', 'happy', 'meeting', 'rafting']"
      ]
     },
     "execution_count": 7,
     "metadata": {},
     "output_type": "execute_result"
    }
   ],
   "source": [
    "[l.lemmatize(w, pos=wordnet.NOUN) for w in words]"
   ]
  },
  {
   "cell_type": "code",
   "execution_count": 8,
   "id": "8506aa41",
   "metadata": {},
   "outputs": [
    {
     "data": {
      "text/plain": [
       "['eat', 'eat', 'eat', 'eat', 'happy', 'meet', 'raft']"
      ]
     },
     "execution_count": 8,
     "metadata": {},
     "output_type": "execute_result"
    }
   ],
   "source": [
    "[l.lemmatize(w, pos=wordnet.VERB) for w in words]"
   ]
  },
  {
   "cell_type": "code",
   "execution_count": 9,
   "id": "981bc3ad",
   "metadata": {},
   "outputs": [
    {
     "data": {
      "text/plain": [
       "['eat', 'eating', 'eats', 'ate', 'happy', 'meeting', 'rafting']"
      ]
     },
     "execution_count": 9,
     "metadata": {},
     "output_type": "execute_result"
    }
   ],
   "source": [
    "[l.lemmatize(w, pos=wordnet.ADJ) for w in words]"
   ]
  }
 ],
 "metadata": {
  "kernelspec": {
   "display_name": "Python 3 (ipykernel)",
   "language": "python",
   "name": "python3"
  },
  "language_info": {
   "codemirror_mode": {
    "name": "ipython",
    "version": 3
   },
   "file_extension": ".py",
   "mimetype": "text/x-python",
   "name": "python",
   "nbconvert_exporter": "python",
   "pygments_lexer": "ipython3",
   "version": "3.11.4"
  }
 },
 "nbformat": 4,
 "nbformat_minor": 5
}
