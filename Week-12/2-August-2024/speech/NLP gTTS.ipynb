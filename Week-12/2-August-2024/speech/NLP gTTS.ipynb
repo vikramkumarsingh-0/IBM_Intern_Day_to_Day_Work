{
 "cells": [
  {
   "cell_type": "code",
   "execution_count": 1,
   "id": "34cc30a1-dba5-4782-adde-ea28f2140956",
   "metadata": {},
   "outputs": [],
   "source": [
    "# gTTS -> Google TEXt to speech\n",
    "from gtts import gTTS"
   ]
  },
  {
   "cell_type": "code",
   "execution_count": 2,
   "id": "66116e9c-6e06-4c98-985e-fb709afe9f5a",
   "metadata": {},
   "outputs": [],
   "source": [
    "a = gTTS(\"My name is MOhit\")\n",
    "a.save(\"text.mp3\")"
   ]
  },
  {
   "cell_type": "code",
   "execution_count": 3,
   "id": "80f7b029-2b88-4ca4-8805-216be98cd845",
   "metadata": {},
   "outputs": [],
   "source": [
    "with open('new.txt', 'r') as file:\n",
    "    b = file.read()\n",
    "\n",
    "c = gTTS(b, lang=\"en\")\n",
    "c.save(\"text1.mp3\")"
   ]
  },
  {
   "cell_type": "code",
   "execution_count": 4,
   "id": "b6d5a9b9-5eee-411c-89e0-6491ed98bd21",
   "metadata": {},
   "outputs": [],
   "source": [
    "d = gTTS('नमस्ते, मेरा नाम मोहित है, मैं दिल्ली से हूं|', lang='hi')\n",
    "d.save(\"text2.mp3\")"
   ]
  },
  {
   "cell_type": "markdown",
   "id": "fee2b019-17fb-42b5-bcbd-7bbc35ae02db",
   "metadata": {},
   "source": [
    "## TExt to speech segmentation\n",
    "\n",
    "1 step -> Segmentation\n",
    "2 step -> Tokenisation\n",
    "3 step -> Stemming\n",
    "4 step -> Lemmitisation\n",
    "5 step -> Tagging\n",
    "6 step -> Entity Recognition"
   ]
  },
  {
   "cell_type": "markdown",
   "id": "3a9b8666-032e-4a1f-b907-2d7b8ffce704",
   "metadata": {},
   "source": [
    "![ASCII](ascii.png)"
   ]
  },
  {
   "cell_type": "markdown",
   "id": "1a6be994-7066-4964-82df-83a44ffa1319",
   "metadata": {},
   "source": [
    "# Segmentation & Tokenisation"
   ]
  },
  {
   "cell_type": "code",
   "execution_count": 5,
   "id": "38e62347-e1b3-42d4-bba0-6fba3b5e1e16",
   "metadata": {},
   "outputs": [
    {
     "name": "stderr",
     "output_type": "stream",
     "text": [
      "[nltk_data] Downloading package punkt to\n",
      "[nltk_data]     C:\\Users\\dell\\AppData\\Roaming\\nltk_data...\n",
      "[nltk_data]   Package punkt is already up-to-date!\n"
     ]
    },
    {
     "data": {
      "text/plain": [
       "True"
      ]
     },
     "execution_count": 5,
     "metadata": {},
     "output_type": "execute_result"
    }
   ],
   "source": [
    "# nltk-> Natural Language Toolkit\n",
    "\n",
    "from nltk import download\n",
    "download('punkt')"
   ]
  },
  {
   "cell_type": "code",
   "execution_count": 6,
   "id": "016bacae-7430-4337-990d-fca9fb2af803",
   "metadata": {},
   "outputs": [],
   "source": [
    "from nltk.tokenize import word_tokenize, sent_tokenize"
   ]
  },
  {
   "cell_type": "code",
   "execution_count": 7,
   "id": "f549475e-8cda-4c34-8711-93cdac1098ab",
   "metadata": {},
   "outputs": [],
   "source": [
    "a = \"The above copyright. notice and this permission. notice shall be. included in all copies. or substantial portions. of the Software.\""
   ]
  },
  {
   "cell_type": "code",
   "execution_count": 8,
   "id": "7e42a861-f105-48e1-9a1f-b9b4221ceb5d",
   "metadata": {},
   "outputs": [
    {
     "data": {
      "text/plain": [
       "'The above copyright. notice and this permission. notice shall be. included in all copies. or substantial portions. of the Software.'"
      ]
     },
     "execution_count": 8,
     "metadata": {},
     "output_type": "execute_result"
    }
   ],
   "source": [
    "a"
   ]
  },
  {
   "cell_type": "code",
   "execution_count": 9,
   "id": "a69b5c8d-a1b8-4283-b66e-670414e63d38",
   "metadata": {},
   "outputs": [
    {
     "data": {
      "text/plain": [
       "['The above copyright.',\n",
       " 'notice and this permission.',\n",
       " 'notice shall be.',\n",
       " 'included in all copies.',\n",
       " 'or substantial portions.',\n",
       " 'of the Software.']"
      ]
     },
     "execution_count": 9,
     "metadata": {},
     "output_type": "execute_result"
    }
   ],
   "source": [
    "sent_tokenize(a)"
   ]
  },
  {
   "cell_type": "code",
   "execution_count": 10,
   "id": "c7f4d3fe-035e-4c2f-83de-bc9132b5cd7f",
   "metadata": {},
   "outputs": [
    {
     "data": {
      "text/plain": [
       "['The',\n",
       " 'above',\n",
       " 'copyright',\n",
       " '.',\n",
       " 'notice',\n",
       " 'and',\n",
       " 'this',\n",
       " 'permission',\n",
       " '.',\n",
       " 'notice',\n",
       " 'shall',\n",
       " 'be',\n",
       " '.',\n",
       " 'included',\n",
       " 'in',\n",
       " 'all',\n",
       " 'copies',\n",
       " '.',\n",
       " 'or',\n",
       " 'substantial',\n",
       " 'portions',\n",
       " '.',\n",
       " 'of',\n",
       " 'the',\n",
       " 'Software',\n",
       " '.']"
      ]
     },
     "execution_count": 10,
     "metadata": {},
     "output_type": "execute_result"
    }
   ],
   "source": [
    "word_tokenize(a)"
   ]
  },
  {
   "cell_type": "code",
   "execution_count": 11,
   "id": "3202cabc-d8d1-4916-82f9-54bd64c3e5fb",
   "metadata": {},
   "outputs": [],
   "source": [
    "import spacy\n",
    "nlp = spacy.load('en_core_web_sm')\n",
    "b = nlp(a)\n",
    "word_tokens = [token.text for token in b]\n",
    "sent_tokens = [sent.text for sent in b]"
   ]
  },
  {
   "cell_type": "code",
   "execution_count": 12,
   "id": "d473c041-aea0-457c-95f6-46bbc8b341f8",
   "metadata": {},
   "outputs": [
    {
     "data": {
      "text/plain": [
       "['The',\n",
       " 'above',\n",
       " 'copyright',\n",
       " '.',\n",
       " 'notice',\n",
       " 'and',\n",
       " 'this',\n",
       " 'permission',\n",
       " '.',\n",
       " 'notice',\n",
       " 'shall',\n",
       " 'be',\n",
       " '.',\n",
       " 'included',\n",
       " 'in',\n",
       " 'all',\n",
       " 'copies',\n",
       " '.',\n",
       " 'or',\n",
       " 'substantial',\n",
       " 'portions',\n",
       " '.',\n",
       " 'of',\n",
       " 'the',\n",
       " 'Software',\n",
       " '.']"
      ]
     },
     "execution_count": 12,
     "metadata": {},
     "output_type": "execute_result"
    }
   ],
   "source": [
    "word_tokens"
   ]
  },
  {
   "cell_type": "code",
   "execution_count": 13,
   "id": "246daee1-c7ff-430d-a065-2e3030c79e5b",
   "metadata": {},
   "outputs": [
    {
     "data": {
      "text/plain": [
       "['The',\n",
       " 'above',\n",
       " 'copyright',\n",
       " '.',\n",
       " 'notice',\n",
       " 'and',\n",
       " 'this',\n",
       " 'permission',\n",
       " '.',\n",
       " 'notice',\n",
       " 'shall',\n",
       " 'be',\n",
       " '.',\n",
       " 'included',\n",
       " 'in',\n",
       " 'all',\n",
       " 'copies',\n",
       " '.',\n",
       " 'or',\n",
       " 'substantial',\n",
       " 'portions',\n",
       " '.',\n",
       " 'of',\n",
       " 'the',\n",
       " 'Software',\n",
       " '.']"
      ]
     },
     "execution_count": 13,
     "metadata": {},
     "output_type": "execute_result"
    }
   ],
   "source": [
    "sent_tokens"
   ]
  },
  {
   "cell_type": "code",
   "execution_count": 14,
   "id": "649dd2b9-0315-498a-b7f4-ae8deaf04575",
   "metadata": {},
   "outputs": [],
   "source": [
    "# stemming"
   ]
  },
  {
   "cell_type": "code",
   "execution_count": 15,
   "id": "6ab4745d-0072-4400-bff7-34e93291b153",
   "metadata": {},
   "outputs": [],
   "source": [
    "from nltk.stem import PorterStemmer, SnowballStemmer"
   ]
  },
  {
   "cell_type": "code",
   "execution_count": 16,
   "id": "cde7ec91-439f-41c4-8f16-4e6fbf2ce25e",
   "metadata": {},
   "outputs": [
    {
     "data": {
      "text/plain": [
       "<PorterStemmer>"
      ]
     },
     "execution_count": 16,
     "metadata": {},
     "output_type": "execute_result"
    }
   ],
   "source": [
    "words = ['eat', 'eats', 'eating', 'eatery', 'is', 'happy', 'happily', 'happiness']\n",
    "p = PorterStemmer()\n",
    "p"
   ]
  },
  {
   "cell_type": "code",
   "execution_count": 17,
   "id": "b7c8d036-208b-4fa6-b838-13830027827a",
   "metadata": {},
   "outputs": [],
   "source": [
    "p = PorterStemmer()"
   ]
  },
  {
   "cell_type": "code",
   "execution_count": 18,
   "id": "39deaf20-baee-4994-9841-2bda98deb5bb",
   "metadata": {},
   "outputs": [
    {
     "data": {
      "text/plain": [
       "['eat', 'eat', 'eat', 'eateri', 'is', 'happi', 'happili', 'happi']"
      ]
     },
     "execution_count": 18,
     "metadata": {},
     "output_type": "execute_result"
    }
   ],
   "source": [
    "p_stems = [p.stem(w) for w in words]\n",
    "p_stems"
   ]
  },
  {
   "cell_type": "code",
   "execution_count": 19,
   "id": "8871522d-c7b0-493f-9d23-85b791197433",
   "metadata": {},
   "outputs": [],
   "source": [
    "s = SnowballStemmer(language = 'english')"
   ]
  },
  {
   "cell_type": "code",
   "execution_count": 20,
   "id": "83a169ec-8b8f-4b42-b524-fb56dccc72a7",
   "metadata": {},
   "outputs": [
    {
     "data": {
      "text/plain": [
       "['eat', 'eat', 'eat', 'eateri', 'is', 'happi', 'happili', 'happi']"
      ]
     },
     "execution_count": 20,
     "metadata": {},
     "output_type": "execute_result"
    }
   ],
   "source": [
    "[s.stem(w) for w in words]"
   ]
  },
  {
   "cell_type": "code",
   "execution_count": 21,
   "id": "d51bc616-83a5-4e7a-811a-9376578a0fc2",
   "metadata": {},
   "outputs": [],
   "source": [
    "# Lemmatization"
   ]
  },
  {
   "cell_type": "code",
   "execution_count": 22,
   "id": "99dc3997-3ee6-4683-81d8-437807f2e92c",
   "metadata": {},
   "outputs": [],
   "source": [
    "from nltk.stem import WordNetLemmatizer"
   ]
  },
  {
   "cell_type": "code",
   "execution_count": 23,
   "id": "55be45c9-0322-415c-8b4c-0f32f0c447e6",
   "metadata": {},
   "outputs": [
    {
     "data": {
      "text/plain": [
       "['eat', 'eats', 'eating', 'eatery', 'is', 'happy', 'happily', 'happiness']"
      ]
     },
     "execution_count": 23,
     "metadata": {},
     "output_type": "execute_result"
    }
   ],
   "source": [
    "words"
   ]
  },
  {
   "cell_type": "code",
   "execution_count": 24,
   "id": "39c8920f-40ef-4797-8678-2469d7ef9f70",
   "metadata": {},
   "outputs": [],
   "source": [
    "l = WordNetLemmatizer()"
   ]
  },
  {
   "cell_type": "code",
   "execution_count": 29,
   "id": "5fcdffcd-2799-4c19-ada6-2c88e5290172",
   "metadata": {},
   "outputs": [],
   "source": [
    "from nltk.corpus import wordnet"
   ]
  },
  {
   "cell_type": "code",
   "execution_count": 30,
   "id": "621151e8-ad63-4ca1-942d-9eaf77a1ac7d",
   "metadata": {},
   "outputs": [
    {
     "name": "stderr",
     "output_type": "stream",
     "text": [
      "[nltk_data] Downloading package wordnet to\n",
      "[nltk_data]     C:\\Users\\dell\\AppData\\Roaming\\nltk_data...\n",
      "[nltk_data]   Package wordnet is already up-to-date!\n"
     ]
    },
    {
     "data": {
      "text/plain": [
       "True"
      ]
     },
     "execution_count": 30,
     "metadata": {},
     "output_type": "execute_result"
    }
   ],
   "source": [
    "download('wordnet')"
   ]
  },
  {
   "cell_type": "code",
   "execution_count": 31,
   "id": "63342fcf-46c0-42b3-89fd-03dec02fcfd1",
   "metadata": {},
   "outputs": [
    {
     "name": "stderr",
     "output_type": "stream",
     "text": [
      "[nltk_data] Downloading package omw to\n",
      "[nltk_data]     C:\\Users\\dell\\AppData\\Roaming\\nltk_data...\n",
      "[nltk_data]   Package omw is already up-to-date!\n"
     ]
    },
    {
     "data": {
      "text/plain": [
       "True"
      ]
     },
     "execution_count": 31,
     "metadata": {},
     "output_type": "execute_result"
    }
   ],
   "source": [
    "download('omw')"
   ]
  },
  {
   "cell_type": "code",
   "execution_count": 36,
   "id": "e69a8e24-1848-46f4-9251-c6bb986b8665",
   "metadata": {},
   "outputs": [
    {
     "data": {
      "text/plain": [
       "['eat', 'eats', 'eating', 'eatery', 'is', 'happy', 'happily', 'happiness']"
      ]
     },
     "execution_count": 36,
     "metadata": {},
     "output_type": "execute_result"
    }
   ],
   "source": [
    "# pos -> Parts of Speech Tagging\n",
    "\n",
    "le = [l.lemmatize(w, pos = wordnet.NOUN) for w in words]\n",
    "le"
   ]
  },
  {
   "cell_type": "code",
   "execution_count": 34,
   "id": "c76b33c3-fe41-4bde-a0c9-08f4d1a72e86",
   "metadata": {},
   "outputs": [
    {
     "data": {
      "text/plain": [
       "['eat', 'eat', 'eat', 'eatery', 'be', 'happy', 'happily', 'happiness']"
      ]
     },
     "execution_count": 34,
     "metadata": {},
     "output_type": "execute_result"
    }
   ],
   "source": [
    "le1 = [l.lemmatize(w, pos = wordnet.VERB) for w in words]\n",
    "le1"
   ]
  },
  {
   "cell_type": "code",
   "execution_count": 35,
   "id": "ee3491a1",
   "metadata": {},
   "outputs": [
    {
     "data": {
      "text/plain": [
       "['eat', 'eats', 'eating', 'eatery', 'is', 'happy', 'happily', 'happiness']"
      ]
     },
     "execution_count": 35,
     "metadata": {},
     "output_type": "execute_result"
    }
   ],
   "source": [
    "le2 = [l.lemmatize(w, pos = wordnet.ADJ) for w in words]\n",
    "le2"
   ]
  }
 ],
 "metadata": {
  "kernelspec": {
   "display_name": "Python 3 (ipykernel)",
   "language": "python",
   "name": "python3"
  },
  "language_info": {
   "codemirror_mode": {
    "name": "ipython",
    "version": 3
   },
   "file_extension": ".py",
   "mimetype": "text/x-python",
   "name": "python",
   "nbconvert_exporter": "python",
   "pygments_lexer": "ipython3",
   "version": "3.11.4"
  }
 },
 "nbformat": 4,
 "nbformat_minor": 5
}
