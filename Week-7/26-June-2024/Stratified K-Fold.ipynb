{
 "cells": [
  {
   "cell_type": "code",
   "execution_count": 1,
   "id": "a2c2081f",
   "metadata": {},
   "outputs": [],
   "source": [
    "from sklearn.model_selection import StratifiedKFold\n",
    "from sklearn.linear_model import LogisticRegression\n",
    "from sklearn.metrics import accuracy_score\n",
    "import numpy as np"
   ]
  },
  {
   "cell_type": "code",
   "execution_count": 4,
   "id": "b25e0db1",
   "metadata": {},
   "outputs": [
    {
     "name": "stdout",
     "output_type": "stream",
     "text": [
      "Average Accuracy: 1.0\n"
     ]
    }
   ],
   "source": [
    "x = np.array([[1,2], [3,4],[1,2], [3,4],[1,2], [3,4]])\n",
    "y = np.array([0,1,0,1,0,1])\n",
    "\n",
    "skf = StratifiedKFold(n_splits = 3, shuffle = True, random_state = 42)\n",
    "\n",
    "model = LogisticRegression()\n",
    "accuracies = []\n",
    "\n",
    "for train_index, test_index in skf.split(x,y):\n",
    "    x_train, x_test = x[train_index], x[test_index]\n",
    "    y_train, y_test = y[train_index], y[test_index]\n",
    "    \n",
    "    model.fit(x_train, y_train)\n",
    "    \n",
    "    predictions = model.predict(x_test)\n",
    "    \n",
    "    accuracy = accuracy_score(y_test, predictions)\n",
    "    \n",
    "    accuracies.append(accuracy)\n",
    "    \n",
    "print(f'Average Accuracy: {np.mean(accuracies)}')"
   ]
  },
  {
   "cell_type": "code",
   "execution_count": null,
   "id": "912d649b",
   "metadata": {},
   "outputs": [],
   "source": []
  }
 ],
 "metadata": {
  "kernelspec": {
   "display_name": "Python 3 (ipykernel)",
   "language": "python",
   "name": "python3"
  },
  "language_info": {
   "codemirror_mode": {
    "name": "ipython",
    "version": 3
   },
   "file_extension": ".py",
   "mimetype": "text/x-python",
   "name": "python",
   "nbconvert_exporter": "python",
   "pygments_lexer": "ipython3",
   "version": "3.11.4"
  }
 },
 "nbformat": 4,
 "nbformat_minor": 5
}
